{
 "cells": [
  {
   "cell_type": "code",
   "execution_count": null,
   "metadata": {},
   "outputs": [],
   "source": [
    "from ctlogger import logger"
   ]
  },
  {
   "cell_type": "code",
   "execution_count": null,
   "metadata": {},
   "outputs": [],
   "source": [
    "# ### color(arg1, arg2, ...)\n",
    "# Using is just like print(), but the log will with color which you specified.\n",
    "\n",
    "logger.cyan('this', 'is', 'a', 'cyan', 'log')\n",
    "logger.red(1, 2, 3)"
   ]
  },
  {
   "cell_type": "code",
   "execution_count": null,
   "metadata": {},
   "outputs": [],
   "source": [
    "# ## bg_color(arg1, arg2, ...)\n",
    "# Simalar to color(), this funciton is for background color and the font-color will be complementary color.\n",
    "\n",
    "logger.bg_blue('this', 'background color blue, and font is yellow')"
   ]
  },
  {
   "cell_type": "code",
   "execution_count": null,
   "metadata": {},
   "outputs": [],
   "source": [
    "# ### log(optList, arg1, arg2, ...)\n",
    "# print log with options(possible options are shown above) and option is case-insensitive.\n",
    "\n",
    "logger.log(['red','Bg_Yellow'], 3,4,5) #print 3,4,5 (with font-color:red, backgroud is yellow)\n",
    "logger.log(['blue', 'Bold'], 'this', 'is', 'a', 'blue-Bold', 'log')\n",
    "logger.log(['BG_BLUE', 'YELLOW'], 'this', 'is', 'as', 'same', 'as', 'logger.bg_blue')\n"
   ]
  },
  {
   "cell_type": "code",
   "execution_count": null,
   "metadata": {},
   "outputs": [],
   "source": [
    "# ### start(*opts), end()\n",
    "# You can set optsm and then below log from print will apply this opts util end() be called.\n",
    "\n",
    "logger.start('yellow','bold')\n",
    "print('this is yellow and bold')\n",
    "logger.end()\n",
    "print('this is normal log')\n"
   ]
  },
  {
   "cell_type": "code",
   "execution_count": null,
   "metadata": {},
   "outputs": [],
   "source": [
    "# ### by_codes(codeList, arg1, arg2, ...)\n",
    "# You can pass other codes, and try it.\n",
    "# Find more codes: [ANSI ESCAPE CODE](https://en.wikipedia.org/wiki/ANSI_escape_code)\n",
    "\n",
    "logger.by_codes(['31','4'], \"this is equl to logger.log(['red','underline'], ...)\")\n"
   ]
  },
  {
   "cell_type": "code",
   "execution_count": null,
   "metadata": {},
   "outputs": [],
   "source": [
    "# ### show_opts()\n",
    "# Once you forgot which option can be use, you can call this function to see all options.\n",
    "\n",
    "logger.show_opts()"
   ]
  },
  {
   "cell_type": "code",
   "execution_count": null,
   "metadata": {
    "collapsed": true
   },
   "outputs": [],
   "source": [
    "# ### debug()\n",
    "# This log will be print only if the env variable VERBOSE be set.\n",
    "\n",
    "logger.debug('shows only when', 'VERBOSE', 'been', 'set')\n"
   ]
  },
  {
   "cell_type": "code",
   "execution_count": null,
   "metadata": {},
   "outputs": [],
   "source": [
    "### print_line_info(arg1, arg2...) print_stack()\n",
    "def bar():\n",
    "    logger.print_line_info('1','2') # <YOUR_FILE_NAME>:12/bar 1 2 \n",
    "    logger.print_stack()\n",
    "    #<YOUR_FILE_NAME>:13/bar logger.printStack()\n",
    "    #<YOUR_FILE_NAME>:18/foo bar()\n",
    "    #<YOUR_FILE_NAME>:19/<module> foo()\n",
    "    #...\n",
    "def foo():\n",
    "    bar()\n",
    "foo()"
   ]
  },
  {
   "cell_type": "code",
   "execution_count": null,
   "metadata": {
    "collapsed": true
   },
   "outputs": [],
   "source": []
  }
 ],
 "metadata": {
  "kernelspec": {
   "display_name": "Python 3",
   "language": "python",
   "name": "python3"
  },
  "language_info": {
   "codemirror_mode": {
    "name": "ipython",
    "version": 3
   },
   "file_extension": ".py",
   "mimetype": "text/x-python",
   "name": "python",
   "nbconvert_exporter": "python",
   "pygments_lexer": "ipython3",
   "version": "3.6.3"
  }
 },
 "nbformat": 4,
 "nbformat_minor": 2
}
